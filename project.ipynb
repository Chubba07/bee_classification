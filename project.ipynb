{
  "nbformat": 4,
  "nbformat_minor": 0,
  "metadata": {
    "colab": {
      "name": "project.ipynb",
      "provenance": [],
      "collapsed_sections": []
    },
    "kernelspec": {
      "name": "python3",
      "display_name": "Python 3"
    }
  },
  "cells": [
    {
      "cell_type": "markdown",
      "metadata": {
        "id": "EoyLgydba20l"
      },
      "source": [
        "##Introduction\r\n",
        "\r\n",
        "Classification in deeplearning involves predicting whether a certain input image belongs to class. The classification of dataset could be **binary** which involves **yes/no** decision or it could be **multi-class** which is implemented in this notebook.\r\n",
        "The objective of this notebook is to classify bees based on **subspecies**.\r\n",
        "The Ground truth of the data set is mentioned in `bee_data.csv`.\r\n",
        "Just like every Deeplearning Task ,this notebook has four steps:\r\n",
        "* Preprocessing of DataSet\r\n",
        "* Creating the Model\r\n",
        "* Training\r\n",
        "* Testing of the model\r\n",
        "\r\n",
        "Import the necessary libraries required for the Task\r\n",
        "\r\n"
      ]
    },
    {
      "cell_type": "code",
      "metadata": {
        "id": "Qq3F_1LSo2UR"
      },
      "source": [
        "import pandas as pd\r\n",
        "import numpy as np\r\n",
        "import os\r\n",
        "import skimage\r\n",
        "import skimage.io\r\n",
        "import skimage.transform\r\n",
        "import matplotlib.pyplot as plt\r\n",
        "import scipy\r\n",
        "from sklearn.model_selection import train_test_split\r\n",
        "from sklearn import metrics\r\n",
        "from keras import optimizers\r\n",
        "from keras.models import Sequential\r\n",
        "from keras.layers import Dense, Conv2D, Flatten, MaxPool2D, Dropout, BatchNormalization,LeakyReLU\r\n",
        "from keras.preprocessing.image import ImageDataGenerator\r\n",
        "from keras.callbacks import ModelCheckpoint, Callback, EarlyStopping, ReduceLROnPlateau, LearningRateScheduler\r\n",
        "import warnings\r\n",
        "warnings.filterwarnings(\"ignore\", category=DeprecationWarning)\r\n",
        "import tensorflow"
      ],
      "execution_count": 8,
      "outputs": []
    },
    {
      "cell_type": "code",
      "metadata": {
        "colab": {
          "base_uri": "https://localhost:8080/"
        },
        "id": "Mu0Apyvu3Tel",
        "outputId": "5417e2cb-b0e4-4c42-ca14-54a25dcce747"
      },
      "source": [
        "from google.colab import drive\r\n",
        "drive.mount('/content/drive')"
      ],
      "execution_count": 2,
      "outputs": [
        {
          "output_type": "stream",
          "text": [
            "Drive already mounted at /content/drive; to attempt to forcibly remount, call drive.mount(\"/content/drive\", force_remount=True).\n"
          ],
          "name": "stdout"
        }
      ]
    },
    {
      "cell_type": "markdown",
      "metadata": {
        "id": "UeHi1nPBmck0"
      },
      "source": [
        "In this section all the **Constants** are defined as shown below"
      ]
    },
    {
      "cell_type": "code",
      "metadata": {
        "id": "fjYhiByd4Akn"
      },
      "source": [
        "IMAGE_PATH = '/content/drive/MyDrive/Project/bee_imgs/bee_imgs/'\r\n",
        "CSV_FILE_PATH = '/content/drive/MyDrive/Project/bee_data.csv'\r\n",
        "IMAGE_WIDTH = 100\r\n",
        "IMAGE_HEIGHT = 100\r\n",
        "IMAGE_CHANNELS = 3\r\n",
        "RANDOM_STATE = 2018\r\n",
        "TEST_SIZE = 0.2\r\n",
        "VAL_SIZE = 0.2\r\n",
        "CONV_2D_DIM_1 = 16\r\n",
        "CONV_2D_DIM_2 = 16\r\n",
        "MAX_POOL_DIM = 2\r\n",
        "KERNEL_SIZE = 3\r\n",
        "BATCH_SIZE = 32\r\n",
        "NO_EPOCHS = 50\r\n",
        "PATIENCE = 5\r\n",
        "VERBOSE = 1"
      ],
      "execution_count": 5,
      "outputs": []
    },
    {
      "cell_type": "markdown",
      "metadata": {
        "id": "ee12583Dmuin"
      },
      "source": [
        "### Preprocessing of DataSet\r\n",
        " 1) Use `read_csv` from the `pandas`library to get the contents of `bee_data.csv`. Make some preliminary checks to see the total images and shape of csv file. Also check if every image name in `bee_id.csv` has an image in the image folder."
      ]
    },
    {
      "cell_type": "code",
      "metadata": {
        "colab": {
          "base_uri": "https://localhost:8080/"
        },
        "id": "fvbuWDzZ6bJ0",
        "outputId": "c05f57b8-5459-445f-e6ef-1af2a4683e4e"
      },
      "source": [
        "image_file_names = os.listdir(IMAGE_PATH)\r\n",
        "print(\"Totals images {}\".format(len(image_file_names)))\r\n",
        "bee_csv_data = pd.read_csv(CSV_FILE_PATH)\r\n",
        "print(\"Shape of csv file {}\".format(bee_csv_data.shape))\r\n",
        "\r\n",
        "#Check if all the names in csv file has corresponding image file\r\n",
        "print(\"Images with file names in csv {}\".format(len(set(bee_csv_data['file']).intersection(image_file_names))))"
      ],
      "execution_count": 4,
      "outputs": [
        {
          "output_type": "stream",
          "text": [
            "Totals images 5172\n",
            "Shape of csv file (5172, 9)\n",
            "Images with file names in csv 5172\n"
          ],
          "name": "stdout"
        }
      ]
    },
    {
      "cell_type": "markdown",
      "metadata": {
        "id": "wFSz2gA5q6l8"
      },
      "source": [
        "2) Data set is genrally divided into `train` and `test` set to check the performance of the model after training . The ratio of the split is commanly **80:20**. \r\n",
        "\r\n",
        "The `train` set is further split to into `train` and `validation` set. This helps during training to improve the **weights-update**. \r\n",
        "\r\n",
        "The data is split and the number of images in each set is dispayed"
      ]
    },
    {
      "cell_type": "code",
      "metadata": {
        "colab": {
          "base_uri": "https://localhost:8080/"
        },
        "id": "BOWMjcPR7Fo7",
        "outputId": "786d349b-40c6-4dd0-f245-6ca71d4f2dd0"
      },
      "source": [
        "#Create dataset train validation and test\r\n",
        "train_data, test_data = train_test_split(bee_csv_data, \r\n",
        "                                         test_size=TEST_SIZE, \r\n",
        "                                         random_state=RANDOM_STATE, \r\n",
        "                                         stratify=bee_csv_data['subspecies']\r\n",
        "                                         )\r\n",
        "\r\n",
        "train_data, val_data = train_test_split(train_data, \r\n",
        "                                        test_size=VAL_SIZE, \r\n",
        "                                        random_state=RANDOM_STATE, \r\n",
        "                                        stratify=train_data['subspecies']\r\n",
        "                                        )\r\n",
        "print(\"Train set: {}\".format(train_data.shape[0]))\r\n",
        "print(\"Validate set: {}\".format(val_data.shape[0]))\r\n",
        "print(\"Test set: {}\".format(test_data.shape[0]))"
      ],
      "execution_count": 9,
      "outputs": [
        {
          "output_type": "stream",
          "text": [
            "Train set: 3309\n",
            "Validate set: 828\n",
            "Test set: 1035\n"
          ],
          "name": "stdout"
        }
      ]
    },
    {
      "cell_type": "markdown",
      "metadata": {
        "id": "vGaBjT2JumpI"
      },
      "source": [
        "3) The total number of **Classes** is **7**. Hence the ground truth values has to be has to be customised a little for this task.\r\n",
        "\r\n",
        "The `get_image` function is used to read the image, resize it and return the image as an array\r\n",
        "\r\n",
        "The `categories_encoder` stack all the images using numpy and creats a the ground truth for each image using the `Pandas` - `get_dummies`. The returned **y** is of the shape`(total number of images, number of classes)` "
      ]
    },
    {
      "cell_type": "code",
      "metadata": {
        "id": "plydidqwFzYQ"
      },
      "source": [
        "def get_image(file_name):\r\n",
        "  image = skimage.io.imread(IMAGE_PATH+file_name)\r\n",
        "  image = skimage.transform.resize(image, (IMAGE_WIDTH, IMAGE_HEIGHT), mode='reflect')\r\n",
        "  return image[:,:,:IMAGE_CHANNELS]\r\n",
        "\r\n",
        "def categories_encoder(dataset, var='subspecies'):\r\n",
        "    X = np.stack(dataset['file'].apply(get_image))\r\n",
        "    y = pd.get_dummies(dataset[var], drop_first=False)\r\n",
        "    return X, y\r\n",
        "\r\n",
        "X_train, Y_train = categories_encoder(train_data)\r\n",
        "X_val, Y_val = categories_encoder(val_data)\r\n",
        "X_test, Y_test = categories_encoder(test_data)"
      ],
      "execution_count": 10,
      "outputs": []
    },
    {
      "cell_type": "markdown",
      "metadata": {
        "id": "9TW3wsvL3d0z"
      },
      "source": [
        "4) Dataset augmentation is a handy tool to feed in data by changing certain features to increase the number to data during training. Hence `ImageDataGenerator` with augmentation parameters as mentioned below is used."
      ]
    },
    {
      "cell_type": "code",
      "metadata": {
        "id": "TuvrfBowo5ql"
      },
      "source": [
        "image_generator = ImageDataGenerator(\r\n",
        "        featurewise_center=False,\r\n",
        "        samplewise_center=False,\r\n",
        "        featurewise_std_normalization=False,\r\n",
        "        samplewise_std_normalization=False,\r\n",
        "        zca_whitening=False,\r\n",
        "        rotation_range=180,\r\n",
        "        zoom_range = 0.1, \r\n",
        "        width_shift_range=0.1,\r\n",
        "        height_shift_range=0.1, \r\n",
        "        horizontal_flip=True,\r\n",
        "        vertical_flip=True)\r\n",
        "image_generator.fit(X_train)"
      ],
      "execution_count": 11,
      "outputs": []
    },
    {
      "cell_type": "markdown",
      "metadata": {
        "id": "muL88n1d4m9c"
      },
      "source": [
        "### Creating the Model\r\n",
        "The model consists of Sequential layers as stated below\r\n",
        "* 1 convolution layer 16 filters\r\n",
        "* 1 maxpooling layer\r\n",
        "* 1 dropout layer\r\n",
        "* 1 convolution layer 32 filters\r\n",
        "* 1 droupout layer\r\n",
        "* 1 flatten layer\r\n",
        "* 1 dense output layer"
      ]
    },
    {
      "cell_type": "code",
      "metadata": {
        "colab": {
          "base_uri": "https://localhost:8080/"
        },
        "id": "7EPeAR4DNdwz",
        "outputId": "5ef9751d-7c33-4375-ff70-a158df6e744a"
      },
      "source": [
        "def create_model(output, pretrained_weights=None):\r\n",
        "  model = Sequential()\r\n",
        "  model.add(Conv2D(CONV_2D_DIM_1, kernel_size=KERNEL_SIZE, \r\n",
        "                  input_shape=(IMAGE_WIDTH, IMAGE_HEIGHT,IMAGE_CHANNELS),\r\n",
        "                  activation='relu', padding='same'))\r\n",
        "  model.add(MaxPool2D(MAX_POOL_DIM)) \r\n",
        "  model.add(Dropout(0.4))\r\n",
        "  model.add(Conv2D(CONV_2D_DIM_2, kernel_size=KERNEL_SIZE,\r\n",
        "                  activation='relu', padding='same'))\r\n",
        "  model.add(Dropout(0.4))\r\n",
        "  model.add(Flatten())\r\n",
        "  model.add(Dense(output, activation='softmax'))\r\n",
        "  model.compile(optimizer='adam', loss='categorical_crossentropy', metrics=['accuracy'])\r\n",
        "  \r\n",
        "  if(pretrained_weights):\r\n",
        "    model.load_weights(pretrained_weights)\r\n",
        "  return model\r\n",
        "\r\n",
        "output = Y_train.columns.size\r\n",
        "model = create_model(output)\r\n",
        "model.summary()"
      ],
      "execution_count": 14,
      "outputs": [
        {
          "output_type": "stream",
          "text": [
            "Model: \"sequential\"\n",
            "_________________________________________________________________\n",
            "Layer (type)                 Output Shape              Param #   \n",
            "=================================================================\n",
            "conv2d (Conv2D)              (None, 100, 100, 16)      448       \n",
            "_________________________________________________________________\n",
            "max_pooling2d (MaxPooling2D) (None, 50, 50, 16)        0         \n",
            "_________________________________________________________________\n",
            "dropout (Dropout)            (None, 50, 50, 16)        0         \n",
            "_________________________________________________________________\n",
            "conv2d_1 (Conv2D)            (None, 50, 50, 16)        2320      \n",
            "_________________________________________________________________\n",
            "dropout_1 (Dropout)          (None, 50, 50, 16)        0         \n",
            "_________________________________________________________________\n",
            "flatten (Flatten)            (None, 40000)             0         \n",
            "_________________________________________________________________\n",
            "dense (Dense)                (None, 7)                 280007    \n",
            "=================================================================\n",
            "Total params: 282,775\n",
            "Trainable params: 282,775\n",
            "Non-trainable params: 0\n",
            "_________________________________________________________________\n"
          ],
          "name": "stdout"
        }
      ]
    },
    {
      "cell_type": "markdown",
      "metadata": {
        "id": "YfEyzD1z9-za"
      },
      "source": [
        "### Training\r\n",
        "Before training it is a good practise to use some callback funtions to support the training process. Tensorflow supports several callback funtions and `LearningRateScheduler` `EarlyStopping` and `ModelCheckpoint`\r\n",
        "are used here.\r\n",
        "\r\n",
        "`LearningRateScheduler` is used to update the `learning_rate` as per the **`lambda`** function"
      ]
    },
    {
      "cell_type": "code",
      "metadata": {
        "colab": {
          "base_uri": "https://localhost:8080/"
        },
        "id": "HukH9a_XPcLh",
        "outputId": "29328895-60da-4ca4-f37d-5fd1e844520e"
      },
      "source": [
        "annealer = LearningRateScheduler(lambda x: 1e-3 * 0.995 ** (x+NO_EPOCHS))\r\n",
        "earlystopper = EarlyStopping(monitor='loss', patience=PATIENCE, verbose=VERBOSE)\r\n",
        "checkpointer = ModelCheckpoint('/content/drive/MyDrive/Project/best_model.h5',\r\n",
        "                                monitor='val_acc',\r\n",
        "                                verbose=VERBOSE,\r\n",
        "                                save_best_only=False,\r\n",
        "                                save_weights_only=True)\r\n",
        "\r\n",
        "train_model  = model.fit_generator(image_generator.flow(X_train, Y_train, batch_size=BATCH_SIZE),\r\n",
        "                        epochs=NO_EPOCHS,\r\n",
        "                        validation_data=(X_val, Y_val),\r\n",
        "                        steps_per_epoch=len(X_train)/BATCH_SIZE,\r\n",
        "                        callbacks=[earlystopper, checkpointer, annealer])"
      ],
      "execution_count": 11,
      "outputs": [
        {
          "output_type": "stream",
          "text": [
            "/usr/local/lib/python3.6/dist-packages/tensorflow/python/keras/engine/training.py:1844: UserWarning:\n",
            "\n",
            "`Model.fit_generator` is deprecated and will be removed in a future version. Please use `Model.fit`, which supports generators.\n",
            "\n"
          ],
          "name": "stderr"
        },
        {
          "output_type": "stream",
          "text": [
            "Epoch 1/50\n",
            "103/103 [==============================] - 34s 320ms/step - loss: 1.2301 - accuracy: 0.6148 - val_loss: 0.7451 - val_accuracy: 0.7089\n",
            "\n",
            "Epoch 00001: saving model to /content/drive/MyDrive/Project/best_model.h5\n",
            "Epoch 2/50\n",
            "103/103 [==============================] - 32s 311ms/step - loss: 0.6457 - accuracy: 0.7374 - val_loss: 0.5598 - val_accuracy: 0.7717\n",
            "\n",
            "Epoch 00002: saving model to /content/drive/MyDrive/Project/best_model.h5\n",
            "Epoch 3/50\n",
            "103/103 [==============================] - 33s 322ms/step - loss: 0.5057 - accuracy: 0.8042 - val_loss: 0.5318 - val_accuracy: 0.7971\n",
            "\n",
            "Epoch 00003: saving model to /content/drive/MyDrive/Project/best_model.h5\n",
            "Epoch 4/50\n",
            "103/103 [==============================] - 32s 310ms/step - loss: 0.4766 - accuracy: 0.8078 - val_loss: 0.5012 - val_accuracy: 0.8056\n",
            "\n",
            "Epoch 00004: saving model to /content/drive/MyDrive/Project/best_model.h5\n",
            "Epoch 5/50\n",
            "103/103 [==============================] - 32s 309ms/step - loss: 0.4414 - accuracy: 0.8305 - val_loss: 0.4344 - val_accuracy: 0.8249\n",
            "\n",
            "Epoch 00005: saving model to /content/drive/MyDrive/Project/best_model.h5\n",
            "Epoch 6/50\n",
            "103/103 [==============================] - 33s 318ms/step - loss: 0.4410 - accuracy: 0.8195 - val_loss: 0.4139 - val_accuracy: 0.8333\n",
            "\n",
            "Epoch 00006: saving model to /content/drive/MyDrive/Project/best_model.h5\n",
            "Epoch 7/50\n",
            "103/103 [==============================] - 32s 312ms/step - loss: 0.3713 - accuracy: 0.8367 - val_loss: 0.5113 - val_accuracy: 0.7742\n",
            "\n",
            "Epoch 00007: saving model to /content/drive/MyDrive/Project/best_model.h5\n",
            "Epoch 8/50\n",
            "103/103 [==============================] - 32s 313ms/step - loss: 0.3593 - accuracy: 0.8585 - val_loss: 0.4909 - val_accuracy: 0.8164\n",
            "\n",
            "Epoch 00008: saving model to /content/drive/MyDrive/Project/best_model.h5\n",
            "Epoch 9/50\n",
            "103/103 [==============================] - 32s 311ms/step - loss: 0.3482 - accuracy: 0.8508 - val_loss: 0.4027 - val_accuracy: 0.8249\n",
            "\n",
            "Epoch 00009: saving model to /content/drive/MyDrive/Project/best_model.h5\n",
            "Epoch 10/50\n",
            "103/103 [==============================] - 33s 315ms/step - loss: 0.3514 - accuracy: 0.8542 - val_loss: 0.3221 - val_accuracy: 0.8647\n",
            "\n",
            "Epoch 00010: saving model to /content/drive/MyDrive/Project/best_model.h5\n",
            "Epoch 11/50\n",
            "103/103 [==============================] - 33s 316ms/step - loss: 0.2922 - accuracy: 0.8678 - val_loss: 0.3110 - val_accuracy: 0.8575\n",
            "\n",
            "Epoch 00011: saving model to /content/drive/MyDrive/Project/best_model.h5\n",
            "Epoch 12/50\n",
            "103/103 [==============================] - 33s 322ms/step - loss: 0.2943 - accuracy: 0.8704 - val_loss: 0.3242 - val_accuracy: 0.8611\n",
            "\n",
            "Epoch 00012: saving model to /content/drive/MyDrive/Project/best_model.h5\n",
            "Epoch 13/50\n",
            "103/103 [==============================] - 32s 308ms/step - loss: 0.2920 - accuracy: 0.8791 - val_loss: 0.4797 - val_accuracy: 0.8200\n",
            "\n",
            "Epoch 00013: saving model to /content/drive/MyDrive/Project/best_model.h5\n",
            "Epoch 14/50\n",
            "103/103 [==============================] - 32s 308ms/step - loss: 0.3154 - accuracy: 0.8702 - val_loss: 0.3268 - val_accuracy: 0.8732\n",
            "\n",
            "Epoch 00014: saving model to /content/drive/MyDrive/Project/best_model.h5\n",
            "Epoch 15/50\n",
            "103/103 [==============================] - 32s 313ms/step - loss: 0.2897 - accuracy: 0.8759 - val_loss: 0.2863 - val_accuracy: 0.8744\n",
            "\n",
            "Epoch 00015: saving model to /content/drive/MyDrive/Project/best_model.h5\n",
            "Epoch 16/50\n",
            "103/103 [==============================] - 32s 313ms/step - loss: 0.2901 - accuracy: 0.8752 - val_loss: 0.2551 - val_accuracy: 0.8841\n",
            "\n",
            "Epoch 00016: saving model to /content/drive/MyDrive/Project/best_model.h5\n",
            "Epoch 17/50\n",
            "103/103 [==============================] - 34s 325ms/step - loss: 0.2968 - accuracy: 0.8713 - val_loss: 0.2947 - val_accuracy: 0.8804\n",
            "\n",
            "Epoch 00017: saving model to /content/drive/MyDrive/Project/best_model.h5\n",
            "Epoch 18/50\n",
            "103/103 [==============================] - 31s 303ms/step - loss: 0.2448 - accuracy: 0.8968 - val_loss: 0.2611 - val_accuracy: 0.8780\n",
            "\n",
            "Epoch 00018: saving model to /content/drive/MyDrive/Project/best_model.h5\n",
            "Epoch 19/50\n",
            "103/103 [==============================] - 31s 301ms/step - loss: 0.2589 - accuracy: 0.8907 - val_loss: 0.2686 - val_accuracy: 0.8780\n",
            "\n",
            "Epoch 00019: saving model to /content/drive/MyDrive/Project/best_model.h5\n",
            "Epoch 20/50\n",
            "103/103 [==============================] - 31s 302ms/step - loss: 0.2429 - accuracy: 0.8993 - val_loss: 0.2683 - val_accuracy: 0.8841\n",
            "\n",
            "Epoch 00020: saving model to /content/drive/MyDrive/Project/best_model.h5\n",
            "Epoch 21/50\n",
            "103/103 [==============================] - 31s 302ms/step - loss: 0.2812 - accuracy: 0.8843 - val_loss: 0.2815 - val_accuracy: 0.8756\n",
            "\n",
            "Epoch 00021: saving model to /content/drive/MyDrive/Project/best_model.h5\n",
            "Epoch 22/50\n",
            "103/103 [==============================] - 32s 307ms/step - loss: 0.2331 - accuracy: 0.9039 - val_loss: 0.3263 - val_accuracy: 0.8611\n",
            "\n",
            "Epoch 00022: saving model to /content/drive/MyDrive/Project/best_model.h5\n",
            "Epoch 23/50\n",
            "103/103 [==============================] - 31s 302ms/step - loss: 0.2546 - accuracy: 0.8894 - val_loss: 0.2930 - val_accuracy: 0.8744\n",
            "\n",
            "Epoch 00023: saving model to /content/drive/MyDrive/Project/best_model.h5\n",
            "Epoch 24/50\n",
            "103/103 [==============================] - 31s 301ms/step - loss: 0.2499 - accuracy: 0.8848 - val_loss: 0.2735 - val_accuracy: 0.8768\n",
            "\n",
            "Epoch 00024: saving model to /content/drive/MyDrive/Project/best_model.h5\n",
            "Epoch 25/50\n",
            "103/103 [==============================] - 32s 304ms/step - loss: 0.2302 - accuracy: 0.9017 - val_loss: 0.2535 - val_accuracy: 0.8889\n",
            "\n",
            "Epoch 00025: saving model to /content/drive/MyDrive/Project/best_model.h5\n",
            "Epoch 26/50\n",
            "103/103 [==============================] - 31s 302ms/step - loss: 0.2122 - accuracy: 0.9138 - val_loss: 0.3358 - val_accuracy: 0.8623\n",
            "\n",
            "Epoch 00026: saving model to /content/drive/MyDrive/Project/best_model.h5\n",
            "Epoch 27/50\n",
            "103/103 [==============================] - 31s 301ms/step - loss: 0.2310 - accuracy: 0.9002 - val_loss: 0.2815 - val_accuracy: 0.8816\n",
            "\n",
            "Epoch 00027: saving model to /content/drive/MyDrive/Project/best_model.h5\n",
            "Epoch 28/50\n",
            "103/103 [==============================] - 31s 300ms/step - loss: 0.2027 - accuracy: 0.9128 - val_loss: 0.2829 - val_accuracy: 0.8841\n",
            "\n",
            "Epoch 00028: saving model to /content/drive/MyDrive/Project/best_model.h5\n",
            "Epoch 29/50\n",
            "103/103 [==============================] - 31s 300ms/step - loss: 0.2183 - accuracy: 0.9172 - val_loss: 0.3669 - val_accuracy: 0.8527\n",
            "\n",
            "Epoch 00029: saving model to /content/drive/MyDrive/Project/best_model.h5\n",
            "Epoch 30/50\n",
            "103/103 [==============================] - 32s 307ms/step - loss: 0.2144 - accuracy: 0.9081 - val_loss: 0.2056 - val_accuracy: 0.9058\n",
            "\n",
            "Epoch 00030: saving model to /content/drive/MyDrive/Project/best_model.h5\n",
            "Epoch 31/50\n",
            "103/103 [==============================] - 38s 367ms/step - loss: 0.2069 - accuracy: 0.9119 - val_loss: 0.2640 - val_accuracy: 0.8877\n",
            "\n",
            "Epoch 00031: saving model to /content/drive/MyDrive/Project/best_model.h5\n",
            "Epoch 32/50\n",
            "103/103 [==============================] - 31s 300ms/step - loss: 0.2543 - accuracy: 0.8991 - val_loss: 0.2572 - val_accuracy: 0.8877\n",
            "\n",
            "Epoch 00032: saving model to /content/drive/MyDrive/Project/best_model.h5\n",
            "Epoch 33/50\n",
            "103/103 [==============================] - 31s 303ms/step - loss: 0.1939 - accuracy: 0.9191 - val_loss: 0.2725 - val_accuracy: 0.8877\n",
            "\n",
            "Epoch 00033: saving model to /content/drive/MyDrive/Project/best_model.h5\n",
            "Epoch 34/50\n",
            "103/103 [==============================] - 31s 304ms/step - loss: 0.1993 - accuracy: 0.9254 - val_loss: 0.3791 - val_accuracy: 0.8575\n",
            "\n",
            "Epoch 00034: saving model to /content/drive/MyDrive/Project/best_model.h5\n",
            "Epoch 35/50\n",
            "103/103 [==============================] - 31s 302ms/step - loss: 0.2281 - accuracy: 0.9047 - val_loss: 0.2558 - val_accuracy: 0.8853\n",
            "\n",
            "Epoch 00035: saving model to /content/drive/MyDrive/Project/best_model.h5\n",
            "Epoch 36/50\n",
            "103/103 [==============================] - 31s 302ms/step - loss: 0.1930 - accuracy: 0.9181 - val_loss: 0.3304 - val_accuracy: 0.8720\n",
            "\n",
            "Epoch 00036: saving model to /content/drive/MyDrive/Project/best_model.h5\n",
            "Epoch 37/50\n",
            "103/103 [==============================] - 31s 301ms/step - loss: 0.2188 - accuracy: 0.9115 - val_loss: 0.2436 - val_accuracy: 0.8949\n",
            "\n",
            "Epoch 00037: saving model to /content/drive/MyDrive/Project/best_model.h5\n",
            "Epoch 38/50\n",
            "103/103 [==============================] - 32s 305ms/step - loss: 0.1997 - accuracy: 0.9211 - val_loss: 0.3567 - val_accuracy: 0.8611\n",
            "\n",
            "Epoch 00038: saving model to /content/drive/MyDrive/Project/best_model.h5\n",
            "Epoch 39/50\n",
            "103/103 [==============================] - 31s 304ms/step - loss: 0.2093 - accuracy: 0.9142 - val_loss: 0.2841 - val_accuracy: 0.8804\n",
            "\n",
            "Epoch 00039: saving model to /content/drive/MyDrive/Project/best_model.h5\n",
            "Epoch 00039: early stopping\n"
          ],
          "name": "stdout"
        }
      ]
    },
    {
      "cell_type": "markdown",
      "metadata": {
        "id": "2R_mqWbX_cvj"
      },
      "source": [
        "### Testing\r\n",
        "The history of the training is plotted and the performace of the model is tested on the defined **test set** `X_test` and `Y_test`\r\n"
      ]
    },
    {
      "cell_type": "code",
      "metadata": {
        "colab": {
          "base_uri": "https://localhost:8080/",
          "height": 591
        },
        "id": "3HsnxlIsbedR",
        "outputId": "60e3eee8-906d-4162-91ee-62a0800093f0"
      },
      "source": [
        "def plot_accuracy_and_loss(history):\r\n",
        "  plt.plot(history['accuracy'])\r\n",
        "  plt.plot(history['val_accuracy'])\r\n",
        "  plt.title('model accuracy')\r\n",
        "  plt.ylabel('accuracy')\r\n",
        "  plt.xlabel('epoch')\r\n",
        "  plt.legend(['train','validation'], loc='upper left')\r\n",
        "  plt.show()\r\n",
        "\r\n",
        "  plt.plot(history['loss'])\r\n",
        "  plt.plot(history['val_loss'])\r\n",
        "  plt.title('model loss')\r\n",
        "  plt.ylabel('loss')\r\n",
        "  plt.xlabel('epoch')\r\n",
        "  plt.legend(['train','validation'], loc='upper left')\r\n",
        "  plt.show()\r\n",
        "\r\n",
        "plot_accuracy_and_loss(train_model.history)\r\n"
      ],
      "execution_count": 16,
      "outputs": [
        {
          "output_type": "stream",
          "text": [
            "dict_keys(['loss', 'accuracy', 'val_loss', 'val_accuracy', 'lr'])\n"
          ],
          "name": "stdout"
        },
        {
          "output_type": "display_data",
          "data": {
            "image/png": "[encoded data removed]",
            "text/plain": [
              "<Figure size 432x288 with 1 Axes>"
            ]
          },
          "metadata": {
            "tags": [],
            "needs_background": "light"
          }
        },
        {
          "output_type": "display_data",
          "data": {
            "image/png": "[encoded data removed]",
            "text/plain": [
              "<Figure size 432x288 with 1 Axes>"
            ]
          },
          "metadata": {
            "tags": [],
            "needs_background": "light"
          }
        }
      ]
    },
    {
      "cell_type": "code",
      "metadata": {
        "colab": {
          "base_uri": "https://localhost:8080/"
        },
        "id": "m5Q4nG2xy9a2",
        "outputId": "ca4be3f0-3aed-4f20-e500-4622a5bcd9fa"
      },
      "source": [
        "def test_accuracy_report(model):\r\n",
        "    predicted = model.predict(X_test)\r\n",
        "    test_predicted = np.argmax(predicted, axis=1)\r\n",
        "    test_truth = np.argmax(Y_test.values, axis=1)\r\n",
        "    print(metrics.classification_report(test_truth, test_predicted, target_names=Y_test.columns)) \r\n",
        "    test_res = model.evaluate(X_test, Y_test.values, verbose=0)\r\n",
        "    print('Loss function: %s, accuracy:' % test_res[0], test_res[1])\r\n",
        "\r\n",
        "model = create_model(output, '/content/drive/MyDrive/Project/best_model.h5')\r\n",
        "test = model.evaluate(X_test, Y_test, verbose=0)\r\n",
        "test_accuracy_report(model)"
      ],
      "execution_count": 15,
      "outputs": [
        {
          "output_type": "stream",
          "text": [
            "                       precision    recall  f1-score   support\n",
            "\n",
            "                   -1       0.97      0.79      0.87        86\n",
            "1 Mixed local stock 2       0.52      0.89      0.66        94\n",
            "  Carniolan honey bee       0.87      0.99      0.93       100\n",
            "    Italian honey bee       0.96      0.85      0.90       602\n",
            "    Russian honey bee       0.91      1.00      0.95       106\n",
            "VSH Italian honey bee       1.00      0.82      0.90        40\n",
            "    Western honey bee       1.00      1.00      1.00         7\n",
            "\n",
            "             accuracy                           0.88      1035\n",
            "            macro avg       0.89      0.91      0.89      1035\n",
            "         weighted avg       0.91      0.88      0.89      1035\n",
            "\n",
            "Loss function: 0.2791883051395416, accuracy: 0.8801932334899902\n"
          ],
          "name": "stdout"
        }
      ]
    },
    {
      "cell_type": "code",
      "metadata": {
        "id": "OoAYQhNd0umO"
      },
      "source": [
        ""
      ],
      "execution_count": null,
      "outputs": []
    }
  ]
}